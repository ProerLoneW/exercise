{
 "cells": [
  {
   "cell_type": "markdown",
   "metadata": {},
   "source": [
    "## 准备数据"
   ]
  },
  {
   "cell_type": "code",
   "execution_count": 47,
   "metadata": {},
   "outputs": [],
   "source": [
    "import os\n",
    "import numpy as np\n",
    "import tensorflow as tf\n",
    "from tensorflow import keras\n",
    "from keras import layers, optimizers, datasets\n",
    "\n",
    "os.environ['TF_CPP_MIN_LOG_LEVEL'] = '2'  # or any {'0', '1', '2'}\n",
    "\n",
    "def mnist_dataset():\n",
    "    (x, y), (x_test, y_test) = datasets.mnist.load_data()\n",
    "    # normalize\n",
    "    \n",
    "    x = x.reshape(-1, 784).astype('float32') / 255.0  # 展平并归一化\n",
    "    x_test = x_test.reshape(-1, 784).astype('float32') / 255.0  # 展平并归一化\n",
    "    # print(x.shape, x_test.shape)\n",
    "    return (x, y), (x_test, y_test)"
   ]
  },
  {
   "cell_type": "code",
   "execution_count": 4,
   "metadata": {},
   "outputs": [
    {
     "name": "stdout",
     "output_type": "stream",
     "text": [
      "[(1, 'a'), (2, 'b'), (3, 'c'), (4, 'd')]\n"
     ]
    }
   ],
   "source": [
    "print(list(zip([1, 2, 3, 4], ['a', 'b', 'c', 'd'])))"
   ]
  },
  {
   "cell_type": "markdown",
   "metadata": {},
   "source": [
    "## 建立模型"
   ]
  },
  {
   "cell_type": "code",
   "execution_count": 27,
   "metadata": {},
   "outputs": [],
   "source": [
    "class myModel:\n",
    "    def __init__(self, input_dim=784, hidden_dim=128, output_dim=10):\n",
    "        ####################\n",
    "        '''声明模型对应的参数'''\n",
    "        ####################\n",
    "        self.W1 = tf.Variable(tf.random.normal([input_dim, hidden_dim], stddev=0.01))\n",
    "        self.W2 = tf.Variable(tf.random.normal([hidden_dim, output_dim], stddev=0.01))\n",
    "        self.b1 = tf.Variable(tf.zeros([hidden_dim]))\n",
    "        self.b2 = tf.Variable(tf.zeros([output_dim]))\n",
    "    def __call__(self, x):\n",
    "        ####################\n",
    "        '''实现模型函数体，返回未归一化的logits'''\n",
    "        ####################\n",
    "        \" 隐藏层 激活层 \"\n",
    "        h = tf.matmul(x, self.W1) + self.b1\n",
    "        h = tf.nn.relu(h) # 激活函数\n",
    "        logits = tf.matmul(h, self.W2) + self.b2\n",
    "        return logits\n",
    "        \n",
    "model = myModel()\n",
    "\n",
    "optimizer = optimizers.Adam()"
   ]
  },
  {
   "cell_type": "markdown",
   "metadata": {},
   "source": [
    "## 计算 loss"
   ]
  },
  {
   "cell_type": "code",
   "execution_count": 44,
   "metadata": {},
   "outputs": [],
   "source": [
    "@tf.function\n",
    "def compute_loss(logits, labels):\n",
    "    return tf.reduce_mean(\n",
    "        tf.nn.sparse_softmax_cross_entropy_with_logits(\n",
    "            logits=logits, labels=labels))\n",
    "\n",
    "@tf.function\n",
    "def compute_accuracy(logits, labels):\n",
    "    predictions = tf.argmax(logits, axis=1)\n",
    "    return tf.reduce_mean(tf.cast(tf.equal(predictions, labels), tf.float32))\n",
    "\n",
    "@tf.function\n",
    "def train_one_step(model, optimizer, x, y):\n",
    "    with tf.GradientTape() as tape:\n",
    "        logits = model(x)\n",
    "        # print(logits.shape)\n",
    "        loss = compute_loss(logits, y)\n",
    "    \n",
    "    # compute gradient\n",
    "    trainable_vars = [model.W1, model.W2, model.b1, model.b2]\n",
    "    grads = tape.gradient(loss, trainable_vars)\n",
    "    for g, v in zip(grads, trainable_vars):\n",
    "        v.assign_sub(0.01*g)\n",
    "\n",
    "    accuracy = compute_accuracy(logits, y)\n",
    "\n",
    "    # loss and accuracy is scalar tensor\n",
    "    return loss, accuracy\n",
    "\n",
    "@tf.function\n",
    "def test(model, x, y):\n",
    "    logits = model(x)\n",
    "    loss = compute_loss(logits, y)\n",
    "    accuracy = compute_accuracy(logits, y)\n",
    "    return loss, accuracy"
   ]
  },
  {
   "cell_type": "markdown",
   "metadata": {},
   "source": [
    "## 实际训练"
   ]
  },
  {
   "cell_type": "code",
   "execution_count": null,
   "metadata": {},
   "outputs": [
    {
     "name": "stdout",
     "output_type": "stream",
     "text": [
      "epoch 0 : loss 0.71185076 ; accuracy 0.82805\n",
      "epoch 1 : loss 0.71131927 ; accuracy 0.8281\n",
      "epoch 2 : loss 0.7107889 ; accuracy 0.82815\n",
      "epoch 3 : loss 0.71025985 ; accuracy 0.82823336\n",
      "epoch 4 : loss 0.7097319 ; accuracy 0.8283\n",
      "epoch 5 : loss 0.7092053 ; accuracy 0.82836664\n",
      "epoch 6 : loss 0.7086798 ; accuracy 0.82845\n",
      "epoch 7 : loss 0.70815545 ; accuracy 0.82848334\n",
      "epoch 8 : loss 0.7076324 ; accuracy 0.82858336\n",
      "epoch 9 : loss 0.7071105 ; accuracy 0.8286667\n",
      "epoch 10 : loss 0.70658976 ; accuracy 0.82878333\n",
      "epoch 11 : loss 0.7060702 ; accuracy 0.82888335\n",
      "epoch 12 : loss 0.70555186 ; accuracy 0.82888335\n",
      "epoch 13 : loss 0.7050347 ; accuracy 0.8289667\n",
      "epoch 14 : loss 0.7045187 ; accuracy 0.8290333\n",
      "epoch 15 : loss 0.7040039 ; accuracy 0.82913333\n",
      "epoch 16 : loss 0.7034902 ; accuracy 0.82926667\n",
      "epoch 17 : loss 0.7029776 ; accuracy 0.82935\n",
      "epoch 18 : loss 0.7024662 ; accuracy 0.8294333\n",
      "epoch 19 : loss 0.70195603 ; accuracy 0.8294333\n",
      "epoch 20 : loss 0.701447 ; accuracy 0.82945\n",
      "epoch 21 : loss 0.70093906 ; accuracy 0.82951665\n",
      "epoch 22 : loss 0.70043224 ; accuracy 0.82965\n",
      "epoch 23 : loss 0.69992656 ; accuracy 0.8296833\n",
      "epoch 24 : loss 0.69942206 ; accuracy 0.8297667\n",
      "epoch 25 : loss 0.69891864 ; accuracy 0.8299\n",
      "epoch 26 : loss 0.6984164 ; accuracy 0.82996666\n",
      "epoch 27 : loss 0.6979153 ; accuracy 0.8301\n",
      "epoch 28 : loss 0.6974152 ; accuracy 0.83015\n",
      "epoch 29 : loss 0.6969163 ; accuracy 0.8302\n",
      "epoch 30 : loss 0.69641846 ; accuracy 0.83026665\n",
      "epoch 31 : loss 0.6959217 ; accuracy 0.83038336\n",
      "epoch 32 : loss 0.69542617 ; accuracy 0.8304667\n",
      "epoch 33 : loss 0.6949317 ; accuracy 0.8305167\n",
      "epoch 34 : loss 0.6944383 ; accuracy 0.83063334\n",
      "epoch 35 : loss 0.69394594 ; accuracy 0.83071667\n",
      "epoch 36 : loss 0.6934547 ; accuracy 0.83085\n",
      "epoch 37 : loss 0.69296455 ; accuracy 0.83095\n",
      "epoch 38 : loss 0.6924755 ; accuracy 0.83106667\n",
      "epoch 39 : loss 0.6919876 ; accuracy 0.8311167\n",
      "epoch 40 : loss 0.69150066 ; accuracy 0.8311667\n",
      "epoch 41 : loss 0.69101477 ; accuracy 0.83125\n",
      "epoch 42 : loss 0.69053 ; accuracy 0.83125\n",
      "epoch 43 : loss 0.69004637 ; accuracy 0.8313\n",
      "epoch 44 : loss 0.6895637 ; accuracy 0.83131665\n",
      "epoch 45 : loss 0.689082 ; accuracy 0.83141667\n",
      "epoch 46 : loss 0.68860155 ; accuracy 0.8314\n",
      "epoch 47 : loss 0.68812215 ; accuracy 0.83143336\n",
      "epoch 48 : loss 0.68764365 ; accuracy 0.8314833\n",
      "epoch 49 : loss 0.6871663 ; accuracy 0.8315333\n",
      "test loss 0.66722053 ; accuracy 0.8378\n"
     ]
    }
   ],
   "source": [
    "train_data, test_data = mnist_dataset()\n",
    "\n",
    "for epoch in range(50):\n",
    "    loss, accuracy = train_one_step(model, optimizer, \n",
    "                                    tf.constant(train_data[0], dtype=tf.float32), \n",
    "                                    tf.constant(train_data[1], dtype=tf.int64))\n",
    "    print('epoch', epoch, ': loss', loss.numpy(), '; accuracy', accuracy.numpy())\n",
    "loss, accuracy = test(model, \n",
    "                      tf.constant(test_data[0], dtype=tf.float32), \n",
    "                      tf.constant(test_data[1], dtype=tf.int64))\n",
    "\" 原本精确度: 0.846, 不对啊 原本从0.83开始训练的 \"\n",
    "\" 我这边训练很多轮才达到 0.84 呜呜呜 \"\n",
    "print('test loss', loss.numpy(), '; accuracy', accuracy.numpy())"
   ]
  }
 ],
 "metadata": {
  "kernelspec": {
   "display_name": "Python 3",
   "language": "python",
   "name": "python3"
  },
  "language_info": {
   "codemirror_mode": {
    "name": "ipython",
    "version": 3
   },
   "file_extension": ".py",
   "mimetype": "text/x-python",
   "name": "python",
   "nbconvert_exporter": "python",
   "pygments_lexer": "ipython3",
   "version": "3.12.3"
  }
 },
 "nbformat": 4,
 "nbformat_minor": 2
}
